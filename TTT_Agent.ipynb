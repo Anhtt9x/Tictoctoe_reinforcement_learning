{
 "cells": [
  {
   "cell_type": "code",
   "execution_count": 2,
   "metadata": {},
   "outputs": [],
   "source": [
    "import collections\n",
    "import numpy as np\n",
    "import random\n",
    "import pickle\n",
    "import os\n",
    "import sys\n",
    "import time\n",
    "import datetime\n",
    "import matplotlib.pyplot as plt\n",
    "%matplotlib inline"
   ]
  },
  {
   "cell_type": "code",
   "execution_count": null,
   "metadata": {},
   "outputs": [],
   "source": [
    "from Env import TicTacToe\n",
    "\n",
    "def q_state(state):\n",
    "    return (\"-\".join(str(e) for e in state)).replace('nan','x')\n",
    "\n",
    "\n",
    "def valid_action(state):\n",
    "    valid_actions = [i for i in env.action(state)[0]]\n",
    "    return valid_actions\n",
    "\n",
    "def add_to_dict(state):\n",
    "    state_1 = q_state(state)\n",
    "    valid_act = valid_action(state)\n",
    "    if state_1 not in q_dict.keys():\n",
    "        if action not in valid_act:\n",
    "            q_dict[state_1][action] = 0\n",
    "\n"
   ]
  }
 ],
 "metadata": {
  "kernelspec": {
   "display_name": "venv",
   "language": "python",
   "name": "python3"
  },
  "language_info": {
   "codemirror_mode": {
    "name": "ipython",
    "version": 3
   },
   "file_extension": ".py",
   "mimetype": "text/x-python",
   "name": "python",
   "nbconvert_exporter": "python",
   "pygments_lexer": "ipython3",
   "version": "3.10.16"
  }
 },
 "nbformat": 4,
 "nbformat_minor": 2
}
