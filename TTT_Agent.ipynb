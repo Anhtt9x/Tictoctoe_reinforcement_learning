{
 "cells": [
  {
   "cell_type": "code",
   "execution_count": 1,
   "metadata": {},
   "outputs": [],
   "source": [
    "import collections\n",
    "import numpy as np\n",
    "import random\n",
    "import pickle\n",
    "import os\n",
    "import sys\n",
    "import time\n",
    "import datetime\n",
    "import matplotlib.pyplot as plt\n",
    "%matplotlib inline"
   ]
  },
  {
   "cell_type": "code",
   "execution_count": 2,
   "metadata": {},
   "outputs": [],
   "source": [
    "q_dict = collections.defaultdict(dict)\n",
    "state_track = collections.defaultdict(dict)\n",
    "\n",
    "def initialize_track_states():\n",
    "    sample_q = [('x-x-x-x-x-x-x-x-x', (5,9)), \\\n",
    "                ('x-x-x-x-x-x-x-6-1', (0,3)), \\\n",
    "                ('4-x-x-x-x-x-x-x-7', (4,1)), \\\n",
    "                ('x-x-x-x-x-x-x-8-5', (4,9)), \\\n",
    "                ]\n",
    "    \n",
    "    for q_vals in sample_q:\n",
    "        state = q_vals[0]\n",
    "        action = q_vals[1]\n",
    "\n",
    "        state_track[state][action] = []\n",
    "\n",
    "def save_obj(obj, name):\n",
    "    with open(name + '.pkl',\"wb\") as f:\n",
    "        pickle.dump(obj,f,pickle.HIGHEST_PROTOCOL)\n",
    "\n",
    "def save_track_states():\n",
    "    for state in state_track.keys():\n",
    "        for action in state_track[state].keys():\n",
    "            if state in q_dict and action in q_dict[state]:\n",
    "                state_track[state][action].append(q_dict[state][action])\n",
    "                "
   ]
  },
  {
   "cell_type": "code",
   "execution_count": 3,
   "metadata": {},
   "outputs": [],
   "source": [
    "from Env import TicTacToe\n",
    "\n",
    "env = TicTacToe()\n",
    "\n",
    "def q_state(state):\n",
    "    return (\"-\".join(str(e) for e in state)).replace('nan','x')\n",
    "\n",
    "\n",
    "def valid_action(state):\n",
    "    valid_actions = [i for i in env.action(state)[0]]\n",
    "    return valid_actions\n",
    "\n",
    "def add_to_dict(state):\n",
    "    state_1 = q_state(state)\n",
    "    valid_act = valid_action(state)\n",
    "    if state_1 not in q_dict.keys():\n",
    "        if action not in valid_act:\n",
    "            q_dict[state_1][action] = 0\n",
    "\n"
   ]
  },
  {
   "cell_type": "code",
   "execution_count": 4,
   "metadata": {},
   "outputs": [],
   "source": [
    "def epsilon_greedy(state, step_account,z):\n",
    "    if step_account > z:\n",
    "        q_states = q_state(state)\n",
    "        action = max(q_dict[q_states],key=q_dict[q_states].get)\n",
    "\n",
    "    else:\n",
    "        action = random.choice(valid_action(state))\n",
    "\n",
    "    return action"
   ]
  },
  {
   "cell_type": "code",
   "execution_count": 5,
   "metadata": {},
   "outputs": [],
   "source": [
    "initialize_track_states()"
   ]
  },
  {
   "cell_type": "code",
   "execution_count": 6,
   "metadata": {},
   "outputs": [
    {
     "ename": "SyntaxError",
     "evalue": "non-default argument follows default argument (2138033359.py, line 6)",
     "output_type": "error",
     "traceback": [
      "\u001b[0;36m  Cell \u001b[0;32mIn[6], line 6\u001b[0;36m\u001b[0m\n\u001b[0;31m    def run_agent(z, episodes=episodes, lr=lr, gamma=gamma, debug=debug,env):\u001b[0m\n\u001b[0m                                                                        ^\u001b[0m\n\u001b[0;31mSyntaxError\u001b[0m\u001b[0;31m:\u001b[0m non-default argument follows default argument\n"
     ]
    }
   ],
   "source": [
    "episodes = 500\n",
    "lr = 0.01\n",
    "gamma = 0.95\n",
    "debug = False\n",
    "\n",
    "def run_agent(z, episodes=episodes, lr=lr, gamma=gamma, debug=debug,env):\n",
    "    start_time = time.time()\n",
    "    summary = {10:0, -10:0, 0:0}\n",
    "\n",
    "    for episode in range(episodes):\n",
    "        env = TicTacToe()\n",
    "        current_state = env.state\n",
    "        add_to_dict(current_state)\n",
    "\n",
    "        step_count = 0\n",
    "        total_reward = 0\n",
    "        terminated = False\n",
    "\n",
    "        if debug:\n",
    "            print(f\"\\nEpisodes:{episode}\")\n",
    "            print(str(current_state[0]).replace('nan','x'), str(current_state[1]).replace('nan','x'),str(current_state[2]).replace('nan','x'))\n",
    "            print(str(current_state[3]).replace('nan','x'), str(current_state[4]).replace('nan','x'),str(current_state[5]).replace('nan','x'))\n",
    "            print(str(current_state[6]).replace('nan','x'), str(current_state[7]).replace('nan','x'),str(current_state[8]).replace('nan','x'))\n",
    "\n",
    "        while terminated == False:\n",
    "            current_action = epsilon_greedy(current_state,step_count,z)\n",
    "            next_state, reward, terminated = env.step(current_state,current_action)\n",
    "            add_to_dict(next_state)\n",
    "            \n",
    "            next_q_state = q_state(next_state)\n",
    "            current_q_state = q_state(current_state)\n",
    "\n",
    "            if len(q_dict[next_q_state]) > 0:\n",
    "                next_q_value = max(q_dict[next_q_state], key=q_dict[next_q_state].get)\n",
    "                q_dict[current_q_state][current_action] += lr *((reward + (gamma * q_dict[next_q_state][max_next]))-q_dict[current_q_state][current_action])\n",
    "\n",
    "            current_state = next_state\n",
    "            total_reward += 1 \n",
    "            step_count += 1 \n",
    "\n",
    "\n",
    "        if debug:\n",
    "            print(f\"\\nEpisodes:{episode}\")\n",
    "            print(str(current_state[0]).replace('nan','x'), str(current_state[1]).replace('nan','x'),str(current_state[2]).replace('nan','x'))\n",
    "            print(str(current_state[3]).replace('nan','x'), str(current_state[4]).replace('nan','x'),str(current_state[5]).replace('nan','x'))\n",
    "            print(str(current_state[6]).replace('nan','x'), str(current_state[7]).replace('nan','x'),str(current_state[8]).replace('nan','x'))\n",
    "            print()\n",
    "\n",
    "    summary[reward] = summary[reward]+1\n",
    "    total_steps = total_steps + step_count\n",
    "\n",
    "    if debug:\n",
    "        print(f\"Results reward: {reward}\")\n",
    "\n",
    "    save_track_states()\n",
    "    \n"
   ]
  }
 ],
 "metadata": {
  "kernelspec": {
   "display_name": "venv",
   "language": "python",
   "name": "python3"
  },
  "language_info": {
   "codemirror_mode": {
    "name": "ipython",
    "version": 3
   },
   "file_extension": ".py",
   "mimetype": "text/x-python",
   "name": "python",
   "nbconvert_exporter": "python",
   "pygments_lexer": "ipython3",
   "version": "3.10.16"
  }
 },
 "nbformat": 4,
 "nbformat_minor": 2
}
